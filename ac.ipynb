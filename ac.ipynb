{
 "cells": [
  {
   "cell_type": "code",
   "execution_count": 1,
   "metadata": {},
   "outputs": [],
   "source": [
    "import torch\n",
    "import torch.nn as nn\n",
    "import torch.optim as optim\n",
    "import random\n",
    "from pymongo import MongoClient\n",
    "import copy\n",
    "\n",
    "from state import getStaticInfo, addIndexInfo, convertToStateVector, getQueryMetrics, saveAsJSON\n",
    "from index import create_single_field_index, delete_single_field_index, reset_index_config"
   ]
  },
  {
   "cell_type": "code",
   "execution_count": 2,
   "metadata": {},
   "outputs": [],
   "source": [
    "class Actor(nn.Module):\n",
    "    def __init__(self, state_size, action_size):\n",
    "        super(Actor, self).__init__()\n",
    "        self.fc1 = nn.Linear(state_size, 256)\n",
    "        self.fc2 = nn.Linear(256, 128)\n",
    "        self.fc3 = nn.Linear(128, action_size)\n",
    "        self.init_weights()\n",
    "\n",
    "    def init_weights(self):\n",
    "        nn.init.xavier_uniform_(self.fc1.weight)\n",
    "        nn.init.xavier_uniform_(self.fc2.weight)\n",
    "        nn.init.xavier_uniform_(self.fc3.weight)\n",
    "        nn.init.zeros_(self.fc1.bias)\n",
    "        nn.init.zeros_(self.fc2.bias)\n",
    "        nn.init.zeros_(self.fc3.bias)\n",
    "\n",
    "    def forward(self, state):\n",
    "        x = torch.relu(self.fc1(state))\n",
    "        x = torch.relu(self.fc2(x))\n",
    "        action_probs = torch.tanh(self.fc3(x))\n",
    "        return action_probs"
   ]
  },
  {
   "cell_type": "code",
   "execution_count": 3,
   "metadata": {},
   "outputs": [],
   "source": [
    "class Critic(nn.Module):\n",
    "    def __init__(self, state_size):\n",
    "        super(Critic, self).__init__()\n",
    "        self.fc1 = nn.Linear(state_size, 256)\n",
    "        self.fc2 = nn.Linear(256, 128)\n",
    "        self.fc3 = nn.Linear(128, 1)\n",
    "        self.init_weights()\n",
    "\n",
    "    def init_weights(self):\n",
    "        nn.init.xavier_uniform_(self.fc1.weight)\n",
    "        nn.init.xavier_uniform_(self.fc2.weight)\n",
    "        nn.init.xavier_uniform_(self.fc3.weight)\n",
    "        nn.init.zeros_(self.fc1.bias)\n",
    "        nn.init.zeros_(self.fc2.bias)\n",
    "        nn.init.zeros_(self.fc3.bias)\n",
    "\n",
    "    def forward(self, state):\n",
    "        x = torch.relu(self.fc1(state))\n",
    "        x = torch.relu(self.fc2(x))\n",
    "        value = self.fc3(x)\n",
    "        return value"
   ]
  },
  {
   "cell_type": "code",
   "execution_count": 12,
   "metadata": {},
   "outputs": [],
   "source": [
    "state_size = 192\n",
    "action_size = 30\n",
    "learning_rate = 0.0001\n",
    "actor = Actor(state_size, action_size).cuda()\n",
    "critic = Critic(state_size).cuda()"
   ]
  },
  {
   "cell_type": "code",
   "execution_count": 13,
   "metadata": {},
   "outputs": [],
   "source": [
    "actor_optimizer = optim.Adam(actor.parameters(), lr=learning_rate)\n",
    "critic_optimizer = optim.Adam(critic.parameters(), lr=learning_rate)"
   ]
  },
  {
   "cell_type": "code",
   "execution_count": null,
   "metadata": {},
   "outputs": [],
   "source": [
    "#to continue training using an existing model\n",
    "actor.load_state_dict(torch.load('actor_model.pth'))\n",
    "critic.load_state_dict(torch.load('critic_model.pth'))"
   ]
  },
  {
   "cell_type": "code",
   "execution_count": 14,
   "metadata": {},
   "outputs": [],
   "source": [
    "client = MongoClient('mongodb://localhost:27017/')\n",
    "db_conn = client['benchmark_db1']"
   ]
  },
  {
   "cell_type": "code",
   "execution_count": null,
   "metadata": {},
   "outputs": [],
   "source": [
    "print(\"collecting static info...\")\n",
    "partial_state = copy.deepcopy(getStaticInfo(db_conn))\n",
    "og_state_dict = copy.deepcopy(addIndexInfo(db_conn, partial_state))\n",
    "saveAsJSON(og_state_dict)\n",
    "og_state_vector, collection_list, field_list = convertToStateVector(og_state_dict) # returns a 1X192 list"
   ]
  },
  {
   "cell_type": "code",
   "execution_count": 15,
   "metadata": {},
   "outputs": [],
   "source": [
    "# read saved static info instead of generating it on the fly\n",
    "import json\n",
    "with open('state.json', 'r') as file:\n",
    "    og_state_dict = json.load(file)\n",
    "og_state_vector, collection_list, field_list = convertToStateVector(og_state_dict)"
   ]
  },
  {
   "cell_type": "code",
   "execution_count": 16,
   "metadata": {},
   "outputs": [],
   "source": [
    "def env_step(action, state, state_dict):\n",
    "    field_counter = 0  # Counter to keep track of the field index in the action list\n",
    "    for collectionIdx, collection_name in enumerate(collection_list):\n",
    "        for fieldIdx, field_name in enumerate(field_list[collectionIdx]):\n",
    "            action_value = action[field_counter]\n",
    "            field_counter += 1\n",
    "\n",
    "            # print(f\"Action: Collection {collection_name}, Field {field_name}, Action Value {action_value}\")\n",
    "\n",
    "            if action_value > 0:\n",
    "                # Try to create an index\n",
    "                res = create_single_field_index(db_conn, collection_name, field_name)\n",
    "                if res == 0:  # Index already exists\n",
    "                    pass\n",
    "                    # reward = -99999999\n",
    "                    # print(reward)\n",
    "                    # return reward, state, state_dict\n",
    "                else:\n",
    "                    state_dict = addIndexInfo(db_conn, state_dict)\n",
    "                    state, _, _ = convertToStateVector(state_dict)\n",
    "            elif action_value < 0:\n",
    "                # Try to delete an index\n",
    "                res = delete_single_field_index(db_conn, collection_name, field_name)\n",
    "                if res == 0:  # Index doesn't exist\n",
    "                    pass\n",
    "                    # reward = -99999999\n",
    "                    # print(reward)\n",
    "                    # return reward, state, state_dict\n",
    "                else:\n",
    "                    state_dict = addIndexInfo(db_conn, state_dict)\n",
    "                    state, _, _ = convertToStateVector(state_dict)\n",
    "\n",
    "    reward = -getQueryMetrics(db_conn)['executionTimeMillis']\n",
    "    print(reward)\n",
    "    return reward, state, state_dict"
   ]
  },
  {
   "cell_type": "code",
   "execution_count": 17,
   "metadata": {},
   "outputs": [],
   "source": [
    "def train_step(state, reward, next_state, done):\n",
    "    state = torch.tensor(state, dtype=torch.float32).cuda()\n",
    "    next_state = torch.tensor(next_state, dtype=torch.float32).cuda()\n",
    "    reward = torch.tensor(reward, dtype=torch.float32).cuda()\n",
    "    done = torch.tensor(done, dtype=torch.float32).cuda()\n",
    "\n",
    "    # Critic update\n",
    "    value = critic(state)\n",
    "    next_value = critic(next_state)\n",
    "    target = reward + (1 - done) * 0.99 * next_value\n",
    "    critic_loss = nn.functional.mse_loss(value, target.detach())\n",
    "    critic_optimizer.zero_grad()\n",
    "    critic_loss.backward()\n",
    "    critic_optimizer.step()\n",
    "\n",
    "    # Actor update\n",
    "    action_probs = actor(state)\n",
    "    action_log_probs = torch.log(action_probs)\n",
    "    advantage = (target - value).detach()\n",
    "    actor_loss = -action_log_probs * advantage\n",
    "    actor_optimizer.zero_grad()\n",
    "    actor_loss.mean().backward()\n",
    "    actor_optimizer.step()"
   ]
  },
  {
   "cell_type": "code",
   "execution_count": 18,
   "metadata": {},
   "outputs": [
    {
     "name": "stdout",
     "output_type": "stream",
     "text": [
      "Progress : 0.0%\n"
     ]
    }
   ],
   "source": [
    "num_episodes = 30\n",
    "max_steps_per_episode = 100\n",
    "total_steps = float(num_episodes * max_steps_per_episode)\n",
    "steps = 0\n",
    "for episode in range(num_episodes):\n",
    "    state_dict = copy.deepcopy(og_state_dict)\n",
    "    state = og_state_vector[:]\n",
    "\n",
    "    # print(f\"Episode {episode}: Initial state size: {len(state)}\")\n",
    "    done = False\n",
    "    step_count = 0\n",
    "\n",
    "    while not done:\n",
    "        print(f\"Progress : {round(float((steps*100)/total_steps), 2)}%\")\n",
    "        steps = steps + 1\n",
    "        action_probs = actor(torch.tensor(state, dtype=torch.float32).cuda())\n",
    "        action = action_probs.tolist()\n",
    "        reward, next_state, next_state_dict = env_step(action, state, state_dict)\n",
    "\n",
    "        train_step(state, reward, next_state, done)\n",
    "        state = next_state\n",
    "\n",
    "        step_count += 1\n",
    "        if step_count >= max_steps_per_episode:\n",
    "            done = True\n",
    "\n",
    "        # if episode%100 == 0 and step_count == max_steps_per_episode:\n",
    "        #     print(f\"Episode {episode} action_probs = {action_probs}\")\n",
    "    torch.save(actor.state_dict(), 'actor_model.pth')\n",
    "    torch.save(critic.state_dict(), 'critic_model.pth')\n",
    "    reset_index_config(db_conn, og_state_dict)"
   ]
  },
  {
   "cell_type": "code",
   "execution_count": null,
   "metadata": {},
   "outputs": [],
   "source": [
    "torch.save(actor.state_dict(), 'actor_model.pth')\n",
    "torch.save(critic.state_dict(), 'critic_model.pth')"
   ]
  },
  {
   "cell_type": "code",
   "execution_count": 13,
   "metadata": {},
   "outputs": [],
   "source": [
    "def predict_action(state):\n",
    "    actor.load_state_dict(torch.load('actor_model.pth'))\n",
    "    state = torch.tensor(state, dtype=torch.float32).cuda()\n",
    "    action_probs = actor(state)\n",
    "    collection = torch.argmax(action_probs[:5]).item()\n",
    "    field = torch.argmax(action_probs[5:11]).item()\n",
    "    index_status = action_probs[11].item()\n",
    "    return collection, field, index_status"
   ]
  },
  {
   "cell_type": "code",
   "execution_count": null,
   "metadata": {},
   "outputs": [],
   "source": [
    "print(og_state_dict['collection_3']['currency'])\n",
    "reset_index_config(db_conn, dict(og_state_dict))"
   ]
  }
 ],
 "metadata": {
  "kernelspec": {
   "display_name": "Python 3",
   "language": "python",
   "name": "python3"
  },
  "language_info": {
   "codemirror_mode": {
    "name": "ipython",
    "version": 3
   },
   "file_extension": ".py",
   "mimetype": "text/x-python",
   "name": "python",
   "nbconvert_exporter": "python",
   "pygments_lexer": "ipython3",
   "version": "3.11.9"
  }
 },
 "nbformat": 4,
 "nbformat_minor": 2
}
