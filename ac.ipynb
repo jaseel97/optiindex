{
 "cells": [
  {
   "cell_type": "code",
   "execution_count": 3,
   "metadata": {},
   "outputs": [],
   "source": [
    "import torch\n",
    "import torch.nn as nn\n",
    "import torch.optim as optim\n",
    "import random\n",
    "from pymongo import MongoClient\n",
    "\n",
    "import state as state_gen"
   ]
  },
  {
   "cell_type": "code",
   "execution_count": 27,
   "metadata": {},
   "outputs": [],
   "source": [
    "class Actor(nn.Module):\n",
    "    def __init__(self, state_size, action_size):\n",
    "        super(Actor, self).__init__()\n",
    "        self.fc1 = nn.Linear(state_size, 256)\n",
    "        self.fc2 = nn.Linear(256, 128)\n",
    "        self.fc3 = nn.Linear(128, action_size)\n",
    "        self.init_weights()\n",
    "\n",
    "    def init_weights(self):\n",
    "        nn.init.xavier_uniform_(self.fc1.weight)\n",
    "        nn.init.xavier_uniform_(self.fc2.weight)\n",
    "        nn.init.xavier_uniform_(self.fc3.weight)\n",
    "        nn.init.zeros_(self.fc1.bias)\n",
    "        nn.init.zeros_(self.fc2.bias)\n",
    "        nn.init.zeros_(self.fc3.bias)\n",
    "\n",
    "    def forward(self, state):\n",
    "        x = torch.relu(self.fc1(state))\n",
    "        x = torch.relu(self.fc2(x))\n",
    "        action_probs = torch.sigmoid(self.fc3(x))\n",
    "        return action_probs"
   ]
  },
  {
   "cell_type": "code",
   "execution_count": 28,
   "metadata": {},
   "outputs": [],
   "source": [
    "class Critic(nn.Module):\n",
    "    def __init__(self, state_size):\n",
    "        super(Critic, self).__init__()\n",
    "        self.fc1 = nn.Linear(state_size, 256)\n",
    "        self.fc2 = nn.Linear(256, 128)\n",
    "        self.fc3 = nn.Linear(128, 1)\n",
    "        self.init_weights()\n",
    "\n",
    "    def init_weights(self):\n",
    "        nn.init.xavier_uniform_(self.fc1.weight)\n",
    "        nn.init.xavier_uniform_(self.fc2.weight)\n",
    "        nn.init.xavier_uniform_(self.fc3.weight)\n",
    "        nn.init.zeros_(self.fc1.bias)\n",
    "        nn.init.zeros_(self.fc2.bias)\n",
    "        nn.init.zeros_(self.fc3.bias)\n",
    "\n",
    "    def forward(self, state):\n",
    "        x = torch.relu(self.fc1(state))\n",
    "        x = torch.relu(self.fc2(x))\n",
    "        value = self.fc3(x)\n",
    "        return value"
   ]
  },
  {
   "cell_type": "code",
   "execution_count": 51,
   "metadata": {},
   "outputs": [],
   "source": [
    "state_size = 192\n",
    "action_size = 12\n",
    "learning_rate = 0.0001\n",
    "actor = Actor(state_size, action_size).cuda()\n",
    "critic = Critic(state_size).cuda()\n",
    "\n",
    "actor_optimizer = optim.Adam(actor.parameters(), lr=learning_rate)\n",
    "critic_optimizer = optim.Adam(critic.parameters(), lr=learning_rate)"
   ]
  },
  {
   "cell_type": "code",
   "execution_count": 52,
   "metadata": {},
   "outputs": [],
   "source": [
    "def simulate_reward(action):\n",
    "    return random.uniform(-2, 1)"
   ]
  },
  {
   "cell_type": "code",
   "execution_count": 53,
   "metadata": {},
   "outputs": [],
   "source": [
    "def train_step(state, reward, next_state, done):\n",
    "    state = torch.tensor(state, dtype=torch.float32).cuda()\n",
    "    next_state = torch.tensor(next_state, dtype=torch.float32).cuda()\n",
    "    reward = torch.tensor(reward, dtype=torch.float32).cuda()\n",
    "    done = torch.tensor(done, dtype=torch.float32).cuda()\n",
    "\n",
    "    # Critic update\n",
    "    value = critic(state)\n",
    "    next_value = critic(next_state)\n",
    "    target = reward + (1 - done) * 0.99 * next_value\n",
    "    critic_loss = nn.functional.mse_loss(value, target.detach())\n",
    "    critic_optimizer.zero_grad()\n",
    "    critic_loss.backward()\n",
    "    critic_optimizer.step()\n",
    "\n",
    "    # Actor update\n",
    "    action_probs = actor(state)\n",
    "    action_log_probs = torch.log(action_probs)\n",
    "    advantage = (target - value).detach()\n",
    "    actor_loss = -action_log_probs * advantage\n",
    "    actor_optimizer.zero_grad()\n",
    "    actor_loss.mean().backward()\n",
    "    actor_optimizer.step()"
   ]
  },
  {
   "cell_type": "code",
   "execution_count": 16,
   "metadata": {},
   "outputs": [
    {
     "name": "stdout",
     "output_type": "stream",
     "text": [
      "collecting static info...\n",
      "collection_1\n",
      "['name', 'address', 'email', 'age']\n",
      "collection_2\n",
      "['company', 'price', 'quantity', 'in_stock', 'discount']\n",
      "collection_3\n",
      "['date', 'transaction_id', 'amount', 'currency']\n",
      "collection_4\n",
      "['username', 'password', 'last_login', 'is_active', 'role']\n",
      "collection_5\n",
      "['product_name', 'category', 'rating', 'review_count', 'release_date', 'discontinued']\n",
      "collection_1 -> name : 456539 / 1900000\n",
      "collection_1 -> address : 1899992 / 1900000\n",
      "collection_1 -> email : 787976 / 1900000\n",
      "collection_1 -> age : 63 / 1900000\n",
      "collection_2 -> company : 939173 / 1900000\n",
      "collection_2 -> price : 98673 / 1900000\n",
      "collection_2 -> quantity : 50 / 1900000\n",
      "collection_2 -> in_stock : 2 / 1900000\n",
      "collection_2 -> discount : 1 / 1900000\n",
      "collection_3 -> date : 1663 / 1823286\n",
      "collection_3 -> transaction_id : 1823286 / 1823286\n",
      "collection_3 -> amount : 810125 / 1823286\n",
      "collection_3 -> currency : 4 / 1823286\n",
      "collection_4 -> username : 484322 / 1900005\n",
      "collection_4 -> password : 1900001 / 1900005\n",
      "collection_4 -> last_login : 1800141 / 1900005\n",
      "collection_4 -> is_active : 2 / 1900005\n",
      "collection_4 -> role : 3 / 1900005\n",
      "collection_5 -> product_name : 972 / 1900005\n",
      "collection_5 -> category : 4 / 1900005\n",
      "collection_5 -> rating : 41 / 1900005\n",
      "collection_5 -> review_count : 2 / 1900005\n",
      "collection_5 -> release_date : 8971 / 1900005\n",
      "collection_5 -> discontinued : 2 / 1900005\n"
     ]
    }
   ],
   "source": [
    "client = MongoClient('mongodb://localhost:27017/')\n",
    "db_conn = client['benchmark_db1']\n",
    "\n",
    "print(\"collecting static info...\")\n",
    "partial_state = dict(state_gen.getStaticInfo(db_conn))\n",
    "og_state_dict = dict(state_gen.addIndexInfo(db_conn, partial_state))\n",
    "og_state_vector, fields, collections = state_gen.convertToStateVector(og_state_dict) # returns a 1X192 list"
   ]
  },
  {
   "cell_type": "code",
   "execution_count": 54,
   "metadata": {},
   "outputs": [
    {
     "name": "stdout",
     "output_type": "stream",
     "text": [
      "Episode 0 action_probs = tensor([0.5508, 0.5426, 0.3176, 0.4840, 0.6441, 0.5467, 0.5537, 0.6944, 0.4942,\n",
      "        0.4981, 0.4760, 0.3408], device='cuda:0', grad_fn=<SigmoidBackward0>)\n",
      "Episode 100 action_probs = tensor([7.9492e-07, 7.8884e-03, 2.8430e-16, 5.7404e-06, 4.4713e-08, 4.0628e-10,\n",
      "        1.8499e-05, 5.0890e-07, 4.0815e-09, 5.7801e-13, 3.0133e-14, 1.0943e-08],\n",
      "       device='cuda:0', grad_fn=<SigmoidBackward0>)\n",
      "Episode 200 action_probs = tensor([2.5217e-07, 4.3660e-03, 2.8992e-17, 2.1213e-06, 1.2536e-08, 8.5113e-11,\n",
      "        7.5278e-06, 1.5869e-07, 1.0403e-09, 9.0564e-14, 3.8344e-15, 2.9236e-09],\n",
      "       device='cuda:0', grad_fn=<SigmoidBackward0>)\n"
     ]
    },
    {
     "ename": "KeyboardInterrupt",
     "evalue": "",
     "output_type": "error",
     "traceback": [
      "\u001b[1;31m---------------------------------------------------------------------------\u001b[0m",
      "\u001b[1;31mKeyboardInterrupt\u001b[0m                         Traceback (most recent call last)",
      "Cell \u001b[1;32mIn[54], line 27\u001b[0m\n\u001b[0;32m     24\u001b[0m reward \u001b[38;5;241m=\u001b[39m simulate_reward(action)\n\u001b[0;32m     25\u001b[0m next_state \u001b[38;5;241m=\u001b[39m og_state_vector\n\u001b[1;32m---> 27\u001b[0m \u001b[43mtrain_step\u001b[49m\u001b[43m(\u001b[49m\u001b[43mstate\u001b[49m\u001b[43m,\u001b[49m\u001b[43m \u001b[49m\u001b[43mreward\u001b[49m\u001b[43m,\u001b[49m\u001b[43m \u001b[49m\u001b[43mnext_state\u001b[49m\u001b[43m,\u001b[49m\u001b[43m \u001b[49m\u001b[43mdone\u001b[49m\u001b[43m)\u001b[49m\n\u001b[0;32m     28\u001b[0m state \u001b[38;5;241m=\u001b[39m next_state\n\u001b[0;32m     30\u001b[0m step_count \u001b[38;5;241m+\u001b[39m\u001b[38;5;241m=\u001b[39m \u001b[38;5;241m1\u001b[39m\n",
      "Cell \u001b[1;32mIn[53], line 8\u001b[0m, in \u001b[0;36mtrain_step\u001b[1;34m(state, reward, next_state, done)\u001b[0m\n\u001b[0;32m      5\u001b[0m done \u001b[38;5;241m=\u001b[39m torch\u001b[38;5;241m.\u001b[39mtensor(done, dtype\u001b[38;5;241m=\u001b[39mtorch\u001b[38;5;241m.\u001b[39mfloat32)\u001b[38;5;241m.\u001b[39mcuda()\n\u001b[0;32m      7\u001b[0m \u001b[38;5;66;03m# Critic update\u001b[39;00m\n\u001b[1;32m----> 8\u001b[0m value \u001b[38;5;241m=\u001b[39m \u001b[43mcritic\u001b[49m\u001b[43m(\u001b[49m\u001b[43mstate\u001b[49m\u001b[43m)\u001b[49m\n\u001b[0;32m      9\u001b[0m next_value \u001b[38;5;241m=\u001b[39m critic(next_state)\n\u001b[0;32m     10\u001b[0m target \u001b[38;5;241m=\u001b[39m reward \u001b[38;5;241m+\u001b[39m (\u001b[38;5;241m1\u001b[39m \u001b[38;5;241m-\u001b[39m done) \u001b[38;5;241m*\u001b[39m \u001b[38;5;241m0.99\u001b[39m \u001b[38;5;241m*\u001b[39m next_value\n",
      "File \u001b[1;32m~\\AppData\\Local\\Packages\\PythonSoftwareFoundation.Python.3.11_qbz5n2kfra8p0\\LocalCache\\local-packages\\Python311\\site-packages\\torch\\nn\\modules\\module.py:1553\u001b[0m, in \u001b[0;36mModule._wrapped_call_impl\u001b[1;34m(self, *args, **kwargs)\u001b[0m\n\u001b[0;32m   1551\u001b[0m     \u001b[38;5;28;01mreturn\u001b[39;00m \u001b[38;5;28mself\u001b[39m\u001b[38;5;241m.\u001b[39m_compiled_call_impl(\u001b[38;5;241m*\u001b[39margs, \u001b[38;5;241m*\u001b[39m\u001b[38;5;241m*\u001b[39mkwargs)  \u001b[38;5;66;03m# type: ignore[misc]\u001b[39;00m\n\u001b[0;32m   1552\u001b[0m \u001b[38;5;28;01melse\u001b[39;00m:\n\u001b[1;32m-> 1553\u001b[0m     \u001b[38;5;28;01mreturn\u001b[39;00m \u001b[38;5;28;43mself\u001b[39;49m\u001b[38;5;241;43m.\u001b[39;49m\u001b[43m_call_impl\u001b[49m\u001b[43m(\u001b[49m\u001b[38;5;241;43m*\u001b[39;49m\u001b[43margs\u001b[49m\u001b[43m,\u001b[49m\u001b[43m \u001b[49m\u001b[38;5;241;43m*\u001b[39;49m\u001b[38;5;241;43m*\u001b[39;49m\u001b[43mkwargs\u001b[49m\u001b[43m)\u001b[49m\n",
      "File \u001b[1;32m~\\AppData\\Local\\Packages\\PythonSoftwareFoundation.Python.3.11_qbz5n2kfra8p0\\LocalCache\\local-packages\\Python311\\site-packages\\torch\\nn\\modules\\module.py:1562\u001b[0m, in \u001b[0;36mModule._call_impl\u001b[1;34m(self, *args, **kwargs)\u001b[0m\n\u001b[0;32m   1557\u001b[0m \u001b[38;5;66;03m# If we don't have any hooks, we want to skip the rest of the logic in\u001b[39;00m\n\u001b[0;32m   1558\u001b[0m \u001b[38;5;66;03m# this function, and just call forward.\u001b[39;00m\n\u001b[0;32m   1559\u001b[0m \u001b[38;5;28;01mif\u001b[39;00m \u001b[38;5;129;01mnot\u001b[39;00m (\u001b[38;5;28mself\u001b[39m\u001b[38;5;241m.\u001b[39m_backward_hooks \u001b[38;5;129;01mor\u001b[39;00m \u001b[38;5;28mself\u001b[39m\u001b[38;5;241m.\u001b[39m_backward_pre_hooks \u001b[38;5;129;01mor\u001b[39;00m \u001b[38;5;28mself\u001b[39m\u001b[38;5;241m.\u001b[39m_forward_hooks \u001b[38;5;129;01mor\u001b[39;00m \u001b[38;5;28mself\u001b[39m\u001b[38;5;241m.\u001b[39m_forward_pre_hooks\n\u001b[0;32m   1560\u001b[0m         \u001b[38;5;129;01mor\u001b[39;00m _global_backward_pre_hooks \u001b[38;5;129;01mor\u001b[39;00m _global_backward_hooks\n\u001b[0;32m   1561\u001b[0m         \u001b[38;5;129;01mor\u001b[39;00m _global_forward_hooks \u001b[38;5;129;01mor\u001b[39;00m _global_forward_pre_hooks):\n\u001b[1;32m-> 1562\u001b[0m     \u001b[38;5;28;01mreturn\u001b[39;00m \u001b[43mforward_call\u001b[49m\u001b[43m(\u001b[49m\u001b[38;5;241;43m*\u001b[39;49m\u001b[43margs\u001b[49m\u001b[43m,\u001b[49m\u001b[43m \u001b[49m\u001b[38;5;241;43m*\u001b[39;49m\u001b[38;5;241;43m*\u001b[39;49m\u001b[43mkwargs\u001b[49m\u001b[43m)\u001b[49m\n\u001b[0;32m   1564\u001b[0m \u001b[38;5;28;01mtry\u001b[39;00m:\n\u001b[0;32m   1565\u001b[0m     result \u001b[38;5;241m=\u001b[39m \u001b[38;5;28;01mNone\u001b[39;00m\n",
      "Cell \u001b[1;32mIn[28], line 19\u001b[0m, in \u001b[0;36mCritic.forward\u001b[1;34m(self, state)\u001b[0m\n\u001b[0;32m     17\u001b[0m \u001b[38;5;28;01mdef\u001b[39;00m \u001b[38;5;21mforward\u001b[39m(\u001b[38;5;28mself\u001b[39m, state):\n\u001b[0;32m     18\u001b[0m     x \u001b[38;5;241m=\u001b[39m torch\u001b[38;5;241m.\u001b[39mrelu(\u001b[38;5;28mself\u001b[39m\u001b[38;5;241m.\u001b[39mfc1(state))\n\u001b[1;32m---> 19\u001b[0m     x \u001b[38;5;241m=\u001b[39m \u001b[43mtorch\u001b[49m\u001b[38;5;241;43m.\u001b[39;49m\u001b[43mrelu\u001b[49m\u001b[43m(\u001b[49m\u001b[38;5;28;43mself\u001b[39;49m\u001b[38;5;241;43m.\u001b[39;49m\u001b[43mfc2\u001b[49m\u001b[43m(\u001b[49m\u001b[43mx\u001b[49m\u001b[43m)\u001b[49m\u001b[43m)\u001b[49m\n\u001b[0;32m     20\u001b[0m     value \u001b[38;5;241m=\u001b[39m \u001b[38;5;28mself\u001b[39m\u001b[38;5;241m.\u001b[39mfc3(x)\n\u001b[0;32m     21\u001b[0m     \u001b[38;5;28;01mreturn\u001b[39;00m value\n",
      "\u001b[1;31mKeyboardInterrupt\u001b[0m: "
     ]
    }
   ],
   "source": [
    "num_episodes = 1000\n",
    "max_steps_per_episode = 10\n",
    "\n",
    "for episode in range(num_episodes):\n",
    "    state = og_state_vector\n",
    "\n",
    "    # print(f\"Episode {episode}: Initial state size: {len(state)}\")\n",
    "\n",
    "    done = False\n",
    "    step_count = 0\n",
    "\n",
    "    while not done:\n",
    "        action_probs = actor(torch.tensor(state, dtype=torch.float32).cuda())\n",
    "        try:\n",
    "            collection = torch.argmax(action_probs[:5]).item()\n",
    "            field = torch.argmax(action_probs[5:11]).item()\n",
    "            index_status = action_probs[11].item()\n",
    "        except Exception as e:\n",
    "            print(f\"Error at Episode {episode}, Step {step_count}: {e}\")\n",
    "            print(f\"action_probs: {action_probs}\")\n",
    "            break\n",
    "\n",
    "        action = (collection, field, index_status)\n",
    "        reward = simulate_reward(action)\n",
    "        next_state = og_state_vector\n",
    "\n",
    "        train_step(state, reward, next_state, done)\n",
    "        state = next_state\n",
    "\n",
    "        step_count += 1\n",
    "        if step_count >= max_steps_per_episode:\n",
    "            done = True\n",
    "\n",
    "        if episode%100 == 0 and step_count == max_steps_per_episode:\n",
    "            print(f\"Episode {episode} action_probs = {action_probs}\")"
   ]
  },
  {
   "cell_type": "code",
   "execution_count": null,
   "metadata": {},
   "outputs": [],
   "source": [
    "torch.save(actor.state_dict(), 'actor_model.pth')\n",
    "torch.save(critic.state_dict(), 'critic_model.pth')"
   ]
  },
  {
   "cell_type": "code",
   "execution_count": 13,
   "metadata": {},
   "outputs": [],
   "source": [
    "def predict_action(state):\n",
    "    actor.load_state_dict(torch.load('actor_model.pth'))\n",
    "    state = torch.tensor(state, dtype=torch.float32).cuda()\n",
    "    action_probs = actor(state)\n",
    "    collection = torch.argmax(action_probs[:5]).item()\n",
    "    field = torch.argmax(action_probs[5:11]).item()\n",
    "    index_status = action_probs[11].item()\n",
    "    return collection, field, index_status"
   ]
  }
 ],
 "metadata": {
  "kernelspec": {
   "display_name": "Python 3",
   "language": "python",
   "name": "python3"
  },
  "language_info": {
   "codemirror_mode": {
    "name": "ipython",
    "version": 3
   },
   "file_extension": ".py",
   "mimetype": "text/x-python",
   "name": "python",
   "nbconvert_exporter": "python",
   "pygments_lexer": "ipython3",
   "version": "3.11.9"
  }
 },
 "nbformat": 4,
 "nbformat_minor": 2
}
