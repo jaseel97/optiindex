{
 "cells": [
  {
   "cell_type": "code",
   "execution_count": 3,
   "metadata": {},
   "outputs": [],
   "source": [
    "import torch\n",
    "import torch.nn as nn\n",
    "import torch.optim as optim\n",
    "import random\n",
    "from pymongo import MongoClient\n",
    "\n",
    "import state as state_gen"
   ]
  },
  {
   "cell_type": "code",
   "execution_count": 27,
   "metadata": {},
   "outputs": [],
   "source": [
    "class Actor(nn.Module):\n",
    "    def __init__(self, state_size, action_size):\n",
    "        super(Actor, self).__init__()\n",
    "        self.fc1 = nn.Linear(state_size, 256)\n",
    "        self.fc2 = nn.Linear(256, 128)\n",
    "        self.fc3 = nn.Linear(128, action_size)\n",
    "        self.init_weights()\n",
    "\n",
    "    def init_weights(self):\n",
    "        nn.init.xavier_uniform_(self.fc1.weight)\n",
    "        nn.init.xavier_uniform_(self.fc2.weight)\n",
    "        nn.init.xavier_uniform_(self.fc3.weight)\n",
    "        nn.init.zeros_(self.fc1.bias)\n",
    "        nn.init.zeros_(self.fc2.bias)\n",
    "        nn.init.zeros_(self.fc3.bias)\n",
    "\n",
    "    def forward(self, state):\n",
    "        x = torch.relu(self.fc1(state))\n",
    "        x = torch.relu(self.fc2(x))\n",
    "        action_probs = torch.sigmoid(self.fc3(x))\n",
    "        return action_probs"
   ]
  },
  {
   "cell_type": "code",
   "execution_count": 28,
   "metadata": {},
   "outputs": [],
   "source": [
    "class Critic(nn.Module):\n",
    "    def __init__(self, state_size):\n",
    "        super(Critic, self).__init__()\n",
    "        self.fc1 = nn.Linear(state_size, 256)\n",
    "        self.fc2 = nn.Linear(256, 128)\n",
    "        self.fc3 = nn.Linear(128, 1)\n",
    "        self.init_weights()\n",
    "\n",
    "    def init_weights(self):\n",
    "        nn.init.xavier_uniform_(self.fc1.weight)\n",
    "        nn.init.xavier_uniform_(self.fc2.weight)\n",
    "        nn.init.xavier_uniform_(self.fc3.weight)\n",
    "        nn.init.zeros_(self.fc1.bias)\n",
    "        nn.init.zeros_(self.fc2.bias)\n",
    "        nn.init.zeros_(self.fc3.bias)\n",
    "\n",
    "    def forward(self, state):\n",
    "        x = torch.relu(self.fc1(state))\n",
    "        x = torch.relu(self.fc2(x))\n",
    "        value = self.fc3(x)\n",
    "        return value"
   ]
  },
  {
   "cell_type": "code",
   "execution_count": 29,
   "metadata": {},
   "outputs": [],
   "source": [
    "state_size = 192\n",
    "action_size = 12\n",
    "learning_rate = 0.0001\n",
    "actor = Actor(state_size, action_size).cuda()\n",
    "critic = Critic(state_size).cuda()\n",
    "\n",
    "actor_optimizer = optim.Adam(actor.parameters(), lr=learning_rate)\n",
    "critic_optimizer = optim.Adam(critic.parameters(), lr=learning_rate)"
   ]
  },
  {
   "cell_type": "code",
   "execution_count": 48,
   "metadata": {},
   "outputs": [],
   "source": [
    "def simulate_reward(action):\n",
    "    return random.uniform(-2, 1)"
   ]
  },
  {
   "cell_type": "code",
   "execution_count": 47,
   "metadata": {},
   "outputs": [],
   "source": [
    "def train_step(state, reward, next_state, done):\n",
    "    state = torch.tensor(state, dtype=torch.float32).cuda()\n",
    "    next_state = torch.tensor(next_state, dtype=torch.float32).cuda()\n",
    "    reward = torch.tensor(reward, dtype=torch.float32).cuda()\n",
    "    done = torch.tensor(done, dtype=torch.float32).cuda()\n",
    "\n",
    "    # Critic update\n",
    "    value = critic(state)\n",
    "    next_value = critic(next_state)\n",
    "    target = reward + (1 - done) * 0.99 * next_value\n",
    "    critic_loss = nn.functional.mse_loss(value, target.detach())\n",
    "    critic_optimizer.zero_grad()\n",
    "    critic_loss.backward()\n",
    "    critic_optimizer.step()\n",
    "\n",
    "    # Actor update\n",
    "    action_probs = actor(state)\n",
    "    action_log_probs = torch.log(action_probs)\n",
    "    advantage = (target - value).detach()\n",
    "    actor_loss = -action_log_probs * advantage\n",
    "    actor_optimizer.zero_grad()\n",
    "    actor_loss.mean().backward()\n",
    "    actor_optimizer.step()"
   ]
  },
  {
   "cell_type": "code",
   "execution_count": 16,
   "metadata": {},
   "outputs": [
    {
     "name": "stdout",
     "output_type": "stream",
     "text": [
      "collecting static info...\n",
      "collection_1\n",
      "['name', 'address', 'email', 'age']\n",
      "collection_2\n",
      "['company', 'price', 'quantity', 'in_stock', 'discount']\n",
      "collection_3\n",
      "['date', 'transaction_id', 'amount', 'currency']\n",
      "collection_4\n",
      "['username', 'password', 'last_login', 'is_active', 'role']\n",
      "collection_5\n",
      "['product_name', 'category', 'rating', 'review_count', 'release_date', 'discontinued']\n",
      "collection_1 -> name : 456539 / 1900000\n",
      "collection_1 -> address : 1899992 / 1900000\n",
      "collection_1 -> email : 787976 / 1900000\n",
      "collection_1 -> age : 63 / 1900000\n",
      "collection_2 -> company : 939173 / 1900000\n",
      "collection_2 -> price : 98673 / 1900000\n",
      "collection_2 -> quantity : 50 / 1900000\n",
      "collection_2 -> in_stock : 2 / 1900000\n",
      "collection_2 -> discount : 1 / 1900000\n",
      "collection_3 -> date : 1663 / 1823286\n",
      "collection_3 -> transaction_id : 1823286 / 1823286\n",
      "collection_3 -> amount : 810125 / 1823286\n",
      "collection_3 -> currency : 4 / 1823286\n",
      "collection_4 -> username : 484322 / 1900005\n",
      "collection_4 -> password : 1900001 / 1900005\n",
      "collection_4 -> last_login : 1800141 / 1900005\n",
      "collection_4 -> is_active : 2 / 1900005\n",
      "collection_4 -> role : 3 / 1900005\n",
      "collection_5 -> product_name : 972 / 1900005\n",
      "collection_5 -> category : 4 / 1900005\n",
      "collection_5 -> rating : 41 / 1900005\n",
      "collection_5 -> review_count : 2 / 1900005\n",
      "collection_5 -> release_date : 8971 / 1900005\n",
      "collection_5 -> discontinued : 2 / 1900005\n"
     ]
    }
   ],
   "source": [
    "client = MongoClient('mongodb://localhost:27017/')\n",
    "db_conn = client['benchmark_db1']\n",
    "\n",
    "print(\"collecting static info...\")\n",
    "partial_state = dict(state_gen.getStaticInfo(db_conn))\n",
    "og_state_dict = dict(state_gen.addIndexInfo(db_conn, partial_state))\n",
    "og_state_vector, fields, collections = state_gen.convertToStateVector(og_state_dict) # returns a 1X192 list"
   ]
  },
  {
   "cell_type": "code",
   "execution_count": 49,
   "metadata": {},
   "outputs": [
    {
     "name": "stdout",
     "output_type": "stream",
     "text": [
      "Episode 0 action_probs = tensor([1., 1., 1., 1., 1., 1., 1., 1., 1., 1., 1., 1.], device='cuda:0',\n",
      "       grad_fn=<SigmoidBackward0>)\n",
      "Episode 100 action_probs = tensor([1., 1., 1., 1., 1., 1., 1., 1., 1., 1., 1., 1.], device='cuda:0',\n",
      "       grad_fn=<SigmoidBackward0>)\n"
     ]
    },
    {
     "ename": "KeyboardInterrupt",
     "evalue": "",
     "output_type": "error",
     "traceback": [
      "\u001b[1;31m---------------------------------------------------------------------------\u001b[0m",
      "\u001b[1;31mKeyboardInterrupt\u001b[0m                         Traceback (most recent call last)",
      "Cell \u001b[1;32mIn[49], line 40\u001b[0m\n\u001b[0;32m     37\u001b[0m reward \u001b[38;5;241m=\u001b[39m simulate_reward(action)\n\u001b[0;32m     38\u001b[0m next_state \u001b[38;5;241m=\u001b[39m og_state_vector  \u001b[38;5;66;03m# Placeholder for actual next state calculation\u001b[39;00m\n\u001b[1;32m---> 40\u001b[0m \u001b[43mtrain_step\u001b[49m\u001b[43m(\u001b[49m\u001b[43mstate\u001b[49m\u001b[43m,\u001b[49m\u001b[43m \u001b[49m\u001b[43mreward\u001b[49m\u001b[43m,\u001b[49m\u001b[43m \u001b[49m\u001b[43mnext_state\u001b[49m\u001b[43m,\u001b[49m\u001b[43m \u001b[49m\u001b[43mdone\u001b[49m\u001b[43m)\u001b[49m\n\u001b[0;32m     41\u001b[0m state \u001b[38;5;241m=\u001b[39m next_state\n\u001b[0;32m     43\u001b[0m step_count \u001b[38;5;241m+\u001b[39m\u001b[38;5;241m=\u001b[39m \u001b[38;5;241m1\u001b[39m\n",
      "Cell \u001b[1;32mIn[47], line 22\u001b[0m, in \u001b[0;36mtrain_step\u001b[1;34m(state, reward, next_state, done)\u001b[0m\n\u001b[0;32m     20\u001b[0m actor_loss \u001b[38;5;241m=\u001b[39m \u001b[38;5;241m-\u001b[39maction_log_probs \u001b[38;5;241m*\u001b[39m advantage\n\u001b[0;32m     21\u001b[0m actor_optimizer\u001b[38;5;241m.\u001b[39mzero_grad()\n\u001b[1;32m---> 22\u001b[0m \u001b[43mactor_loss\u001b[49m\u001b[38;5;241;43m.\u001b[39;49m\u001b[43mmean\u001b[49m\u001b[43m(\u001b[49m\u001b[43m)\u001b[49m\u001b[38;5;241m.\u001b[39mbackward()\n\u001b[0;32m     23\u001b[0m actor_optimizer\u001b[38;5;241m.\u001b[39mstep()\n",
      "\u001b[1;31mKeyboardInterrupt\u001b[0m: "
     ]
    }
   ],
   "source": [
    "num_episodes = 1000\n",
    "max_steps_per_episode = 10\n",
    "\n",
    "for episode in range(num_episodes):\n",
    "    state = og_state_vector\n",
    "\n",
    "    # print(f\"Episode {episode}: Initial state size: {len(state)}\")\n",
    "\n",
    "    done = False\n",
    "    step_count = 0\n",
    "\n",
    "    while not done:\n",
    "        action_probs = actor(torch.tensor(state, dtype=torch.float32).cuda())\n",
    "        try:\n",
    "            collection = torch.argmax(action_probs[:5]).item()\n",
    "            field = torch.argmax(action_probs[5:11]).item()\n",
    "            index_status = action_probs[11].item()\n",
    "        except Exception as e:\n",
    "            print(f\"Error at Episode {episode}, Step {step_count}: {e}\")\n",
    "            print(f\"action_probs: {action_probs}\")\n",
    "            break\n",
    "\n",
    "        action = (collection, field, index_status)\n",
    "        reward = simulate_reward(action)\n",
    "        next_state = og_state_vector\n",
    "\n",
    "        train_step(state, reward, next_state, done)\n",
    "        state = next_state\n",
    "\n",
    "        step_count += 1\n",
    "        if step_count >= max_steps_per_episode:\n",
    "            done = True\n",
    "\n",
    "        if episode%100 == 0 and step_count == max_steps_per_episode:\n",
    "            print(f\"Episode {episode} action_probs = {action_probs}\")"
   ]
  },
  {
   "cell_type": "code",
   "execution_count": null,
   "metadata": {},
   "outputs": [],
   "source": [
    "torch.save(actor.state_dict(), 'actor_model.pth')\n",
    "torch.save(critic.state_dict(), 'critic_model.pth')"
   ]
  },
  {
   "cell_type": "code",
   "execution_count": 13,
   "metadata": {},
   "outputs": [],
   "source": [
    "def predict_action(state):\n",
    "    actor.load_state_dict(torch.load('actor_model.pth'))\n",
    "    state = torch.tensor(state, dtype=torch.float32).cuda()\n",
    "    action_probs = actor(state)\n",
    "    collection = torch.argmax(action_probs[:5]).item()\n",
    "    field = torch.argmax(action_probs[5:11]).item()\n",
    "    index_status = action_probs[11].item()\n",
    "    return collection, field, index_status"
   ]
  }
 ],
 "metadata": {
  "kernelspec": {
   "display_name": "Python 3",
   "language": "python",
   "name": "python3"
  },
  "language_info": {
   "codemirror_mode": {
    "name": "ipython",
    "version": 3
   },
   "file_extension": ".py",
   "mimetype": "text/x-python",
   "name": "python",
   "nbconvert_exporter": "python",
   "pygments_lexer": "ipython3",
   "version": "3.11.9"
  }
 },
 "nbformat": 4,
 "nbformat_minor": 2
}
